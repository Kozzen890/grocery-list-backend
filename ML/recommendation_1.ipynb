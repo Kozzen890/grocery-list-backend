{
 "cells": [
  {
   "cell_type": "code",
   "execution_count": 1,
   "metadata": {},
   "outputs": [],
   "source": [
    "import tensorflow as tf\n",
    "import pandas as pd\n",
    "import numpy as np\n",
    "import matplotlib.pyplot as plt"
   ]
  },
  {
   "cell_type": "code",
   "execution_count": 2,
   "metadata": {},
   "outputs": [],
   "source": [
    "# Memuat data pelatihan (berisi informasi harga dari beberapa tempat belanja)\n",
    "training_data = pd.read_csv('training_data.csv')\n",
    "\n",
    "# Menyiapkan fitur dan label untuk model\n",
    "features = training_data.drop(['item', 'cheapest_store'], axis=1).values\n",
    "labels = training_data['cheapest_store'].values\n",
    "\n",
    "# Normalisasi fitur\n",
    "features = (features - features.mean()) / features.std()\n",
    "\n",
    "# One-hot encode the categorical labels\n",
    "labels = pd.get_dummies(labels)"
   ]
  },
  {
   "cell_type": "code",
   "execution_count": 3,
   "metadata": {},
   "outputs": [],
   "source": [
    "# Membagi data menjadi data pelatihan dan data validasi\n",
    "train_size = int(0.8 * len(features))\n",
    "train_features = features[:train_size]\n",
    "train_labels = labels[:train_size]\n",
    "val_features = features[train_size:]\n",
    "val_labels = labels[train_size:]"
   ]
  },
  {
   "cell_type": "code",
   "execution_count": 4,
   "metadata": {},
   "outputs": [],
   "source": [
    "# Membangun model menggunakan TensorFlow\n",
    "model = tf.keras.models.Sequential([\n",
    "    tf.keras.layers.Dense(64, activation='relu', input_shape=(features.shape[1],)),\n",
    "    tf.keras.layers.Dense(64, activation='relu'),\n",
    "    tf.keras.layers.Dense(labels.shape[1], activation='linear')\n",
    "])"
   ]
  },
  {
   "cell_type": "code",
   "execution_count": 5,
   "metadata": {},
   "outputs": [],
   "source": [
    "# Mengkompilasi model\n",
    "model.compile(optimizer='adam', loss='mean_squared_error')"
   ]
  },
  {
   "cell_type": "code",
   "execution_count": 6,
   "metadata": {},
   "outputs": [
    {
     "name": "stdout",
     "output_type": "stream",
     "text": [
      "Epoch 1/100\n",
      "16/16 [==============================] - 2s 36ms/step - loss: 0.1961 - val_loss: 0.1175\n",
      "Epoch 2/100\n",
      "16/16 [==============================] - 0s 7ms/step - loss: 0.0928 - val_loss: 0.0580\n",
      "Epoch 3/100\n",
      "16/16 [==============================] - 0s 8ms/step - loss: 0.0487 - val_loss: 0.0282\n",
      "Epoch 4/100\n",
      "16/16 [==============================] - 0s 9ms/step - loss: 0.0271 - val_loss: 0.0168\n",
      "Epoch 5/100\n",
      "16/16 [==============================] - 0s 12ms/step - loss: 0.0178 - val_loss: 0.0104\n",
      "Epoch 6/100\n",
      "16/16 [==============================] - 0s 8ms/step - loss: 0.0126 - val_loss: 0.0073\n",
      "Epoch 7/100\n",
      "16/16 [==============================] - 0s 8ms/step - loss: 0.0097 - val_loss: 0.0056\n",
      "Epoch 8/100\n",
      "16/16 [==============================] - 0s 7ms/step - loss: 0.0081 - val_loss: 0.0043\n",
      "Epoch 9/100\n",
      "16/16 [==============================] - 0s 10ms/step - loss: 0.0072 - val_loss: 0.0037\n",
      "Epoch 10/100\n",
      "16/16 [==============================] - 0s 7ms/step - loss: 0.0062 - val_loss: 0.0032\n",
      "Epoch 11/100\n",
      "16/16 [==============================] - 0s 9ms/step - loss: 0.0056 - val_loss: 0.0026\n",
      "Epoch 12/100\n",
      "16/16 [==============================] - 0s 10ms/step - loss: 0.0050 - val_loss: 0.0024\n",
      "Epoch 13/100\n",
      "16/16 [==============================] - 0s 8ms/step - loss: 0.0045 - val_loss: 0.0022\n",
      "Epoch 14/100\n",
      "16/16 [==============================] - 0s 9ms/step - loss: 0.0040 - val_loss: 0.0023\n",
      "Epoch 15/100\n",
      "16/16 [==============================] - 0s 11ms/step - loss: 0.0039 - val_loss: 0.0023\n",
      "Epoch 16/100\n",
      "16/16 [==============================] - 0s 10ms/step - loss: 0.0033 - val_loss: 0.0017\n",
      "Epoch 17/100\n",
      "16/16 [==============================] - 0s 7ms/step - loss: 0.0028 - val_loss: 0.0013\n",
      "Epoch 18/100\n",
      "16/16 [==============================] - 0s 6ms/step - loss: 0.0025 - val_loss: 0.0011\n",
      "Epoch 19/100\n",
      "16/16 [==============================] - 0s 7ms/step - loss: 0.0022 - val_loss: 0.0011\n",
      "Epoch 20/100\n",
      "16/16 [==============================] - 0s 8ms/step - loss: 0.0019 - val_loss: 9.0491e-04\n",
      "Epoch 21/100\n",
      "16/16 [==============================] - 0s 8ms/step - loss: 0.0017 - val_loss: 8.6293e-04\n",
      "Epoch 22/100\n",
      "16/16 [==============================] - 0s 6ms/step - loss: 0.0015 - val_loss: 8.1301e-04\n",
      "Epoch 23/100\n",
      "16/16 [==============================] - 0s 7ms/step - loss: 0.0014 - val_loss: 7.8670e-04\n",
      "Epoch 24/100\n",
      "16/16 [==============================] - 0s 7ms/step - loss: 0.0012 - val_loss: 5.5482e-04\n",
      "Epoch 25/100\n",
      "16/16 [==============================] - 0s 6ms/step - loss: 0.0010 - val_loss: 5.1700e-04\n",
      "Epoch 26/100\n",
      "16/16 [==============================] - 0s 5ms/step - loss: 9.1550e-04 - val_loss: 4.2074e-04\n",
      "Epoch 27/100\n",
      "16/16 [==============================] - 0s 6ms/step - loss: 7.8884e-04 - val_loss: 3.5717e-04\n",
      "Epoch 28/100\n",
      "16/16 [==============================] - 0s 7ms/step - loss: 7.4649e-04 - val_loss: 2.9593e-04\n",
      "Epoch 29/100\n",
      "16/16 [==============================] - 0s 6ms/step - loss: 6.1554e-04 - val_loss: 3.2992e-04\n",
      "Epoch 30/100\n",
      "16/16 [==============================] - 0s 7ms/step - loss: 4.9964e-04 - val_loss: 2.2441e-04\n",
      "Epoch 31/100\n",
      "16/16 [==============================] - 0s 6ms/step - loss: 4.0832e-04 - val_loss: 1.7657e-04\n",
      "Epoch 32/100\n",
      "16/16 [==============================] - 0s 6ms/step - loss: 3.5254e-04 - val_loss: 1.8030e-04\n",
      "Epoch 33/100\n",
      "16/16 [==============================] - 0s 8ms/step - loss: 3.1069e-04 - val_loss: 1.7388e-04\n",
      "Epoch 34/100\n",
      "16/16 [==============================] - 0s 7ms/step - loss: 2.5457e-04 - val_loss: 1.1728e-04\n",
      "Epoch 35/100\n",
      "16/16 [==============================] - 0s 6ms/step - loss: 2.7033e-04 - val_loss: 1.1055e-04\n",
      "Epoch 36/100\n",
      "16/16 [==============================] - 0s 6ms/step - loss: 1.9341e-04 - val_loss: 1.1449e-04\n",
      "Epoch 37/100\n",
      "16/16 [==============================] - 0s 6ms/step - loss: 1.5893e-04 - val_loss: 9.3496e-05\n",
      "Epoch 38/100\n",
      "16/16 [==============================] - 0s 6ms/step - loss: 1.2157e-04 - val_loss: 5.5508e-05\n",
      "Epoch 39/100\n",
      "16/16 [==============================] - 0s 5ms/step - loss: 9.6349e-05 - val_loss: 4.5484e-05\n",
      "Epoch 40/100\n",
      "16/16 [==============================] - 0s 5ms/step - loss: 7.5348e-05 - val_loss: 2.8792e-05\n",
      "Epoch 41/100\n",
      "16/16 [==============================] - 0s 5ms/step - loss: 6.2489e-05 - val_loss: 2.8194e-05\n",
      "Epoch 42/100\n",
      "16/16 [==============================] - 0s 4ms/step - loss: 4.8177e-05 - val_loss: 1.6249e-05\n",
      "Epoch 43/100\n",
      "16/16 [==============================] - 0s 4ms/step - loss: 3.9646e-05 - val_loss: 1.6072e-05\n",
      "Epoch 44/100\n",
      "16/16 [==============================] - 0s 4ms/step - loss: 3.2239e-05 - val_loss: 1.3254e-05\n",
      "Epoch 45/100\n",
      "16/16 [==============================] - 0s 4ms/step - loss: 2.7324e-05 - val_loss: 1.1150e-05\n",
      "Epoch 46/100\n",
      "16/16 [==============================] - 0s 4ms/step - loss: 2.0925e-05 - val_loss: 1.2438e-05\n",
      "Epoch 47/100\n",
      "16/16 [==============================] - 0s 4ms/step - loss: 1.6918e-05 - val_loss: 6.7891e-06\n",
      "Epoch 48/100\n",
      "16/16 [==============================] - 0s 4ms/step - loss: 1.3348e-05 - val_loss: 5.5317e-06\n",
      "Epoch 49/100\n",
      "16/16 [==============================] - 0s 4ms/step - loss: 9.9553e-06 - val_loss: 3.8100e-06\n",
      "Epoch 50/100\n",
      "16/16 [==============================] - 0s 4ms/step - loss: 8.5788e-06 - val_loss: 4.8356e-06\n",
      "Epoch 51/100\n",
      "16/16 [==============================] - 0s 4ms/step - loss: 7.2514e-06 - val_loss: 4.2262e-06\n",
      "Epoch 52/100\n",
      "16/16 [==============================] - 0s 4ms/step - loss: 5.2321e-06 - val_loss: 2.3588e-06\n",
      "Epoch 53/100\n",
      "16/16 [==============================] - 0s 4ms/step - loss: 3.9412e-06 - val_loss: 1.8086e-06\n",
      "Epoch 54/100\n",
      "16/16 [==============================] - 0s 4ms/step - loss: 3.0434e-06 - val_loss: 8.3109e-07\n",
      "Epoch 55/100\n",
      "16/16 [==============================] - 0s 4ms/step - loss: 2.2666e-06 - val_loss: 8.1836e-07\n",
      "Epoch 56/100\n",
      "16/16 [==============================] - 0s 4ms/step - loss: 1.8855e-06 - val_loss: 8.2239e-07\n",
      "Epoch 57/100\n",
      "16/16 [==============================] - 0s 4ms/step - loss: 1.4115e-06 - val_loss: 4.6034e-07\n",
      "Epoch 58/100\n",
      "16/16 [==============================] - 0s 4ms/step - loss: 1.0901e-06 - val_loss: 3.0892e-07\n",
      "Epoch 59/100\n",
      "16/16 [==============================] - 0s 4ms/step - loss: 8.8917e-07 - val_loss: 5.0447e-07\n",
      "Epoch 60/100\n",
      "16/16 [==============================] - 0s 4ms/step - loss: 8.2668e-07 - val_loss: 3.1184e-07\n",
      "Epoch 61/100\n",
      "16/16 [==============================] - 0s 3ms/step - loss: 5.7705e-07 - val_loss: 1.8085e-07\n",
      "Epoch 62/100\n",
      "16/16 [==============================] - 0s 4ms/step - loss: 4.3395e-07 - val_loss: 9.9049e-08\n",
      "Epoch 63/100\n",
      "16/16 [==============================] - 0s 4ms/step - loss: 3.4969e-07 - val_loss: 9.2904e-08\n",
      "Epoch 64/100\n",
      "16/16 [==============================] - 0s 4ms/step - loss: 3.3506e-07 - val_loss: 1.0417e-07\n",
      "Epoch 65/100\n",
      "16/16 [==============================] - 0s 4ms/step - loss: 2.9784e-07 - val_loss: 1.1740e-07\n",
      "Epoch 66/100\n",
      "16/16 [==============================] - 0s 4ms/step - loss: 2.0885e-07 - val_loss: 6.3691e-08\n",
      "Epoch 67/100\n",
      "16/16 [==============================] - 0s 4ms/step - loss: 1.5705e-07 - val_loss: 9.3796e-08\n",
      "Epoch 68/100\n",
      "16/16 [==============================] - 0s 4ms/step - loss: 1.3143e-07 - val_loss: 4.4931e-08\n",
      "Epoch 69/100\n",
      "16/16 [==============================] - 0s 4ms/step - loss: 9.1007e-08 - val_loss: 1.6552e-08\n",
      "Epoch 70/100\n",
      "16/16 [==============================] - 0s 4ms/step - loss: 7.0091e-08 - val_loss: 1.7508e-08\n",
      "Epoch 71/100\n",
      "16/16 [==============================] - 0s 4ms/step - loss: 6.4847e-08 - val_loss: 2.8448e-08\n",
      "Epoch 72/100\n",
      "16/16 [==============================] - 0s 4ms/step - loss: 4.6288e-08 - val_loss: 8.1833e-09\n",
      "Epoch 73/100\n",
      "16/16 [==============================] - 0s 4ms/step - loss: 3.4524e-08 - val_loss: 6.3688e-09\n",
      "Epoch 74/100\n",
      "16/16 [==============================] - 0s 4ms/step - loss: 2.6433e-08 - val_loss: 1.4576e-08\n",
      "Epoch 75/100\n",
      "16/16 [==============================] - 0s 4ms/step - loss: 2.9967e-08 - val_loss: 8.2725e-09\n",
      "Epoch 76/100\n",
      "16/16 [==============================] - 0s 4ms/step - loss: 2.2789e-08 - val_loss: 7.6122e-09\n",
      "Epoch 77/100\n",
      "16/16 [==============================] - 0s 4ms/step - loss: 1.4469e-08 - val_loss: 8.4922e-09\n",
      "Epoch 78/100\n",
      "16/16 [==============================] - 0s 4ms/step - loss: 1.3576e-08 - val_loss: 5.8076e-09\n",
      "Epoch 79/100\n",
      "16/16 [==============================] - 0s 4ms/step - loss: 9.2328e-09 - val_loss: 1.9238e-09\n",
      "Epoch 80/100\n",
      "16/16 [==============================] - 0s 4ms/step - loss: 6.9723e-09 - val_loss: 2.2578e-09\n",
      "Epoch 81/100\n",
      "16/16 [==============================] - 0s 4ms/step - loss: 5.0767e-09 - val_loss: 1.7194e-09\n",
      "Epoch 82/100\n",
      "16/16 [==============================] - 0s 4ms/step - loss: 4.4184e-09 - val_loss: 1.3765e-09\n",
      "Epoch 83/100\n",
      "16/16 [==============================] - 0s 4ms/step - loss: 3.5957e-09 - val_loss: 7.6114e-10\n",
      "Epoch 84/100\n",
      "16/16 [==============================] - 0s 6ms/step - loss: 2.6595e-09 - val_loss: 5.9457e-10\n",
      "Epoch 85/100\n",
      "16/16 [==============================] - 0s 4ms/step - loss: 1.9399e-09 - val_loss: 4.6960e-10\n",
      "Epoch 86/100\n",
      "16/16 [==============================] - 0s 4ms/step - loss: 1.3653e-09 - val_loss: 4.1343e-10\n",
      "Epoch 87/100\n",
      "16/16 [==============================] - 0s 4ms/step - loss: 1.1352e-09 - val_loss: 4.1162e-10\n",
      "Epoch 88/100\n",
      "16/16 [==============================] - 0s 4ms/step - loss: 9.0272e-10 - val_loss: 2.8678e-10\n",
      "Epoch 89/100\n",
      "16/16 [==============================] - 0s 4ms/step - loss: 1.1417e-09 - val_loss: 5.9296e-10\n",
      "Epoch 90/100\n",
      "16/16 [==============================] - 0s 4ms/step - loss: 9.7928e-10 - val_loss: 5.2396e-10\n",
      "Epoch 91/100\n",
      "16/16 [==============================] - 0s 4ms/step - loss: 4.8563e-10 - val_loss: 1.7084e-10\n",
      "Epoch 92/100\n",
      "16/16 [==============================] - 0s 4ms/step - loss: 2.7590e-10 - val_loss: 7.0959e-11\n",
      "Epoch 93/100\n",
      "16/16 [==============================] - 0s 4ms/step - loss: 2.0076e-10 - val_loss: 1.7202e-10\n",
      "Epoch 94/100\n",
      "16/16 [==============================] - 0s 4ms/step - loss: 1.5441e-10 - val_loss: 2.8044e-11\n",
      "Epoch 95/100\n",
      "16/16 [==============================] - 0s 4ms/step - loss: 1.0975e-10 - val_loss: 4.9579e-11\n",
      "Epoch 96/100\n",
      "16/16 [==============================] - 0s 4ms/step - loss: 9.3778e-11 - val_loss: 2.3564e-11\n",
      "Epoch 97/100\n",
      "16/16 [==============================] - 0s 4ms/step - loss: 5.7836e-11 - val_loss: 1.7162e-11\n",
      "Epoch 98/100\n",
      "16/16 [==============================] - 0s 4ms/step - loss: 4.2470e-11 - val_loss: 1.5387e-11\n",
      "Epoch 99/100\n",
      "16/16 [==============================] - 0s 4ms/step - loss: 3.0896e-11 - val_loss: 9.4580e-12\n",
      "Epoch 100/100\n",
      "16/16 [==============================] - 0s 4ms/step - loss: 2.0348e-11 - val_loss: 6.6072e-12\n"
     ]
    }
   ],
   "source": [
    "history = model.fit(train_features, train_labels, epochs=100, batch_size=32, validation_data=(val_features, val_labels))"
   ]
  },
  {
   "cell_type": "code",
   "execution_count": 10,
   "metadata": {},
   "outputs": [
    {
     "ename": "KeyError",
     "evalue": "'accuracy'",
     "output_type": "error",
     "traceback": [
      "\u001b[1;31m---------------------------------------------------------------------------\u001b[0m",
      "\u001b[1;31mKeyError\u001b[0m                                  Traceback (most recent call last)",
      "Cell \u001b[1;32mIn[10], line 3\u001b[0m\n\u001b[0;32m      1\u001b[0m \u001b[39m# Mendapatkan riwayat akurasi dan loss\u001b[39;00m\n\u001b[0;32m      2\u001b[0m train_loss \u001b[39m=\u001b[39m history\u001b[39m.\u001b[39mhistory[\u001b[39m'\u001b[39m\u001b[39mloss\u001b[39m\u001b[39m'\u001b[39m]\n\u001b[1;32m----> 3\u001b[0m train_acc \u001b[39m=\u001b[39m history\u001b[39m.\u001b[39;49mhistory[\u001b[39m'\u001b[39;49m\u001b[39maccuracy\u001b[39;49m\u001b[39m'\u001b[39;49m]\n\u001b[0;32m      4\u001b[0m val_loss \u001b[39m=\u001b[39m history\u001b[39m.\u001b[39mhistory[\u001b[39m'\u001b[39m\u001b[39mval_loss\u001b[39m\u001b[39m'\u001b[39m]\n\u001b[0;32m      5\u001b[0m val_acc \u001b[39m=\u001b[39m history\u001b[39m.\u001b[39mhistory[\u001b[39m'\u001b[39m\u001b[39mval_accuracy\u001b[39m\u001b[39m'\u001b[39m]\n",
      "\u001b[1;31mKeyError\u001b[0m: 'accuracy'"
     ]
    }
   ],
   "source": [
    "# Mendapatkan riwayat akurasi dan loss\n",
    "train_loss = history.history['loss']\n",
    "train_acc = history.history['accuracy']\n",
    "val_loss = history.history['val_loss']\n",
    "val_acc = history.history['val_accuracy']"
   ]
  },
  {
   "cell_type": "code",
   "execution_count": 8,
   "metadata": {},
   "outputs": [
    {
     "data": {
      "image/png": "[encoded data removed]",
      "text/plain": [
       "<Figure size 800x400 with 1 Axes>"
      ]
     },
     "metadata": {},
     "output_type": "display_data"
    }
   ],
   "source": [
    "# Membuat plot loss\n",
    "plt.figure(figsize=(8, 4))\n",
    "plt.plot(range(1, len(train_loss) + 1), train_loss, label='Training Loss')\n",
    "plt.plot(range(1, len(val_loss) + 1), val_loss, label='Validation Loss')\n",
    "plt.title('Model Loss')\n",
    "plt.xlabel('Epochs')\n",
    "plt.ylabel('Loss')\n",
    "plt.legend()\n",
    "plt.show()\n"
   ]
  },
  {
   "cell_type": "code",
   "execution_count": 9,
   "metadata": {},
   "outputs": [
    {
     "ename": "NameError",
     "evalue": "name 'train_acc' is not defined",
     "output_type": "error",
     "traceback": [
      "\u001b[1;31m---------------------------------------------------------------------------\u001b[0m",
      "\u001b[1;31mNameError\u001b[0m                                 Traceback (most recent call last)",
      "Cell \u001b[1;32mIn[9], line 3\u001b[0m\n\u001b[0;32m      1\u001b[0m \u001b[39m# Membuat plot akurasi\u001b[39;00m\n\u001b[0;32m      2\u001b[0m plt\u001b[39m.\u001b[39mfigure(figsize\u001b[39m=\u001b[39m(\u001b[39m8\u001b[39m, \u001b[39m4\u001b[39m))\n\u001b[1;32m----> 3\u001b[0m plt\u001b[39m.\u001b[39mplot(\u001b[39mrange\u001b[39m(\u001b[39m1\u001b[39m, \u001b[39mlen\u001b[39m(train_acc) \u001b[39m+\u001b[39m \u001b[39m1\u001b[39m), train_acc, label\u001b[39m=\u001b[39m\u001b[39m'\u001b[39m\u001b[39mTraining Accuracy\u001b[39m\u001b[39m'\u001b[39m)\n\u001b[0;32m      4\u001b[0m plt\u001b[39m.\u001b[39mplot(\u001b[39mrange\u001b[39m(\u001b[39m1\u001b[39m, \u001b[39mlen\u001b[39m(val_acc) \u001b[39m+\u001b[39m \u001b[39m1\u001b[39m), val_acc, label\u001b[39m=\u001b[39m\u001b[39m'\u001b[39m\u001b[39mValidation Accuracy\u001b[39m\u001b[39m'\u001b[39m)\n\u001b[0;32m      5\u001b[0m plt\u001b[39m.\u001b[39mtitle(\u001b[39m'\u001b[39m\u001b[39mModel Accuracy\u001b[39m\u001b[39m'\u001b[39m)\n",
      "\u001b[1;31mNameError\u001b[0m: name 'train_acc' is not defined"
     ]
    },
    {
     "data": {
      "text/plain": [
       "<Figure size 800x400 with 0 Axes>"
      ]
     },
     "metadata": {},
     "output_type": "display_data"
    }
   ],
   "source": [
    "\n",
    "# Membuat plot akurasi\n",
    "plt.figure(figsize=(8, 4))\n",
    "plt.plot(range(1, len(train_acc) + 1), train_acc, label='Training Accuracy')\n",
    "plt.plot(range(1, len(val_acc) + 1), val_acc, label='Validation Accuracy')\n",
    "plt.title('Model Accuracy')\n",
    "plt.xlabel('Epochs')\n",
    "plt.ylabel('Accuracy')\n",
    "plt.legend()\n",
    "plt.show()"
   ]
  },
  {
   "cell_type": "code",
   "execution_count": 8,
   "metadata": {},
   "outputs": [],
   "source": [
    "# Menggunakan model untuk memberikan rekomendasi tempat belanja per item\n",
    "def get_cheapest_stores(features):\n",
    "    normalized_features = (np.array(features) - np.mean(features)) / np.std(features)\n",
    "    price_predictions = model.predict(normalized_features.reshape(1, -1))\n",
    "    cheapest_store_index = np.argmin(price_predictions)\n",
    "    return training_data['cheapest_store'][cheapest_store_index]"
   ]
  },
  {
   "cell_type": "code",
   "execution_count": 9,
   "metadata": {},
   "outputs": [
    {
     "name": "stdout",
     "output_type": "stream",
     "text": [
      "1/1 [==============================] - 0s 51ms/step\n",
      "Rekomendasi tempat belanja dengan harga termurah per item: Store C\n"
     ]
    }
   ],
   "source": [
    "# Contoh penggunaan\n",
    "user_features = [5, 7, 6]  # Contoh fitur harga item dari pengguna\n",
    "cheapest_stores = get_cheapest_stores(user_features)\n",
    "print(f\"Rekomendasi tempat belanja dengan harga termurah per item: {cheapest_stores}\")"
   ]
  },
  {
   "cell_type": "code",
   "execution_count": null,
   "metadata": {},
   "outputs": [],
   "source": []
  }
 ],
 "metadata": {
  "kernelspec": {
   "display_name": "Python 3",
   "language": "python",
   "name": "python3"
  },
  "language_info": {
   "codemirror_mode": {
    "name": "ipython",
    "version": 3
   },
   "file_extension": ".py",
   "mimetype": "text/x-python",
   "name": "python",
   "nbconvert_exporter": "python",
   "pygments_lexer": "ipython3",
   "version": "3.9.0"
  },
  "orig_nbformat": 4
 },
 "nbformat": 4,
 "nbformat_minor": 2
}
